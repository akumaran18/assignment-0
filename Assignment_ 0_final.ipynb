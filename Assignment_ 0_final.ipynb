{
 "cells": [
  {
   "cell_type": "markdown",
   "metadata": {},
   "source": [
    "### \n",
    "# Assignment 0: Blood Glucose \n",
    "\n",
    "Company A developed a product to help patients control blood glucose. They recorded the blood glucose of their patients across a year. The data is stored in the file ‘a.csv’.  The headers of this file are:\n",
    "- data_utc: data in universal time coordinated\n",
    "- bg_checks: the times that the patient checks blood glucose\n",
    "- avg_bg_value: average blood glucose\n",
    "- count_hyper_reading: not important in this assignment\n",
    "- count_hypo_reading: not important in this assignment\n",
    "\n",
    "\n",
    "## Setup"
   ]
  },
  {
   "cell_type": "code",
   "execution_count": 1,
   "metadata": {},
   "outputs": [],
   "source": [
    "#Import sys library\n",
    "import sys"
   ]
  },
  {
   "cell_type": "code",
   "execution_count": 2,
   "metadata": {},
   "outputs": [],
   "source": [
    "#Import numpy library\n",
    "import numpy as np"
   ]
  },
  {
   "cell_type": "code",
   "execution_count": 3,
   "metadata": {},
   "outputs": [],
   "source": [
    "#Import pandas library\n",
    "import pandas"
   ]
  },
  {
   "cell_type": "code",
   "execution_count": 4,
   "metadata": {},
   "outputs": [],
   "source": [
    "#Import matplotlib\n",
    "import matplotlib.pyplot as plt"
   ]
  },
  {
   "cell_type": "markdown",
   "metadata": {},
   "source": [
    "## Step 1: Read Data\n",
    "Your task is to load the average blood glucose for each member in each day into the matrix 'BG'.\n",
    "1. Find all the unique member id\n",
    "2. Store average blood glucose in 'BG'\n",
    "    - The average blood glucose value on some dates is missing. They will show as 'nan' in 'data'. You need to replace the missing bg value as the average of the previous day and the next day.\n",
    "    - 'BG' is a matrix that has the size NUMBER_OF_MEMBERS X 365_DAYS. Store the blood glucose value in the matching date."
   ]
  },
  {
   "cell_type": "code",
   "execution_count": 5,
   "metadata": {},
   "outputs": [
    {
     "data": {
      "text/html": [
       "<div>\n",
       "<style scoped>\n",
       "    .dataframe tbody tr th:only-of-type {\n",
       "        vertical-align: middle;\n",
       "    }\n",
       "\n",
       "    .dataframe tbody tr th {\n",
       "        vertical-align: top;\n",
       "    }\n",
       "\n",
       "    .dataframe thead th {\n",
       "        text-align: right;\n",
       "    }\n",
       "</style>\n",
       "<table border=\"1\" class=\"dataframe\">\n",
       "  <thead>\n",
       "    <tr style=\"text-align: right;\">\n",
       "      <th></th>\n",
       "      <th>member_id</th>\n",
       "      <th>diabetes_type</th>\n",
       "      <th>gender</th>\n",
       "      <th>date_utc</th>\n",
       "      <th>bg_checks</th>\n",
       "      <th>avg_bg_value</th>\n",
       "      <th>count_hyper_reading</th>\n",
       "      <th>count_hypo_reading</th>\n",
       "    </tr>\n",
       "  </thead>\n",
       "  <tbody>\n",
       "    <tr>\n",
       "      <th>0</th>\n",
       "      <td>10213339002895</td>\n",
       "      <td>Type 2</td>\n",
       "      <td>Female</td>\n",
       "      <td>8/1/2017</td>\n",
       "      <td>4</td>\n",
       "      <td>157.00000</td>\n",
       "      <td>2</td>\n",
       "      <td>1</td>\n",
       "    </tr>\n",
       "    <tr>\n",
       "      <th>1</th>\n",
       "      <td>10213339002895</td>\n",
       "      <td>Type 2</td>\n",
       "      <td>Female</td>\n",
       "      <td>8/2/2017</td>\n",
       "      <td>4</td>\n",
       "      <td>152.61111</td>\n",
       "      <td>1</td>\n",
       "      <td>1</td>\n",
       "    </tr>\n",
       "    <tr>\n",
       "      <th>2</th>\n",
       "      <td>10213339002895</td>\n",
       "      <td>Type 2</td>\n",
       "      <td>Female</td>\n",
       "      <td>8/3/2017</td>\n",
       "      <td>1</td>\n",
       "      <td>157.88235</td>\n",
       "      <td>1</td>\n",
       "      <td>0</td>\n",
       "    </tr>\n",
       "    <tr>\n",
       "      <th>3</th>\n",
       "      <td>10213339002895</td>\n",
       "      <td>Type 2</td>\n",
       "      <td>Female</td>\n",
       "      <td>8/4/2017</td>\n",
       "      <td>2</td>\n",
       "      <td>162.47058</td>\n",
       "      <td>2</td>\n",
       "      <td>0</td>\n",
       "    </tr>\n",
       "    <tr>\n",
       "      <th>4</th>\n",
       "      <td>10213339002895</td>\n",
       "      <td>Type 2</td>\n",
       "      <td>Female</td>\n",
       "      <td>8/5/2017</td>\n",
       "      <td>4</td>\n",
       "      <td>166.22223</td>\n",
       "      <td>2</td>\n",
       "      <td>1</td>\n",
       "    </tr>\n",
       "    <tr>\n",
       "      <th>...</th>\n",
       "      <td>...</td>\n",
       "      <td>...</td>\n",
       "      <td>...</td>\n",
       "      <td>...</td>\n",
       "      <td>...</td>\n",
       "      <td>...</td>\n",
       "      <td>...</td>\n",
       "      <td>...</td>\n",
       "    </tr>\n",
       "    <tr>\n",
       "      <th>72972</th>\n",
       "      <td>1029648302090</td>\n",
       "      <td>Type 1</td>\n",
       "      <td>Male</td>\n",
       "      <td>7/27/2018</td>\n",
       "      <td>5</td>\n",
       "      <td>139.81250</td>\n",
       "      <td>0</td>\n",
       "      <td>2</td>\n",
       "    </tr>\n",
       "    <tr>\n",
       "      <th>72973</th>\n",
       "      <td>1029648302090</td>\n",
       "      <td>Type 1</td>\n",
       "      <td>Male</td>\n",
       "      <td>7/28/2018</td>\n",
       "      <td>4</td>\n",
       "      <td>115.70000</td>\n",
       "      <td>1</td>\n",
       "      <td>2</td>\n",
       "    </tr>\n",
       "    <tr>\n",
       "      <th>72974</th>\n",
       "      <td>1029648302090</td>\n",
       "      <td>Type 1</td>\n",
       "      <td>Male</td>\n",
       "      <td>7/29/2018</td>\n",
       "      <td>6</td>\n",
       "      <td>128.48387</td>\n",
       "      <td>2</td>\n",
       "      <td>0</td>\n",
       "    </tr>\n",
       "    <tr>\n",
       "      <th>72975</th>\n",
       "      <td>1029648302090</td>\n",
       "      <td>Type 1</td>\n",
       "      <td>Male</td>\n",
       "      <td>7/30/2018</td>\n",
       "      <td>5</td>\n",
       "      <td>147.18750</td>\n",
       "      <td>5</td>\n",
       "      <td>0</td>\n",
       "    </tr>\n",
       "    <tr>\n",
       "      <th>72976</th>\n",
       "      <td>1029648302090</td>\n",
       "      <td>Type 1</td>\n",
       "      <td>Male</td>\n",
       "      <td>7/31/2018</td>\n",
       "      <td>4</td>\n",
       "      <td>136.96875</td>\n",
       "      <td>1</td>\n",
       "      <td>1</td>\n",
       "    </tr>\n",
       "  </tbody>\n",
       "</table>\n",
       "<p>72977 rows × 8 columns</p>\n",
       "</div>"
      ],
      "text/plain": [
       "            member_id diabetes_type  gender   date_utc  bg_checks  \\\n",
       "0      10213339002895        Type 2  Female   8/1/2017          4   \n",
       "1      10213339002895        Type 2  Female   8/2/2017          4   \n",
       "2      10213339002895        Type 2  Female   8/3/2017          1   \n",
       "3      10213339002895        Type 2  Female   8/4/2017          2   \n",
       "4      10213339002895        Type 2  Female   8/5/2017          4   \n",
       "...               ...           ...     ...        ...        ...   \n",
       "72972   1029648302090        Type 1    Male  7/27/2018          5   \n",
       "72973   1029648302090        Type 1    Male  7/28/2018          4   \n",
       "72974   1029648302090        Type 1    Male  7/29/2018          6   \n",
       "72975   1029648302090        Type 1    Male  7/30/2018          5   \n",
       "72976   1029648302090        Type 1    Male  7/31/2018          4   \n",
       "\n",
       "       avg_bg_value  count_hyper_reading  count_hypo_reading  \n",
       "0         157.00000                    2                   1  \n",
       "1         152.61111                    1                   1  \n",
       "2         157.88235                    1                   0  \n",
       "3         162.47058                    2                   0  \n",
       "4         166.22223                    2                   1  \n",
       "...             ...                  ...                 ...  \n",
       "72972     139.81250                    0                   2  \n",
       "72973     115.70000                    1                   2  \n",
       "72974     128.48387                    2                   0  \n",
       "72975     147.18750                    5                   0  \n",
       "72976     136.96875                    1                   1  \n",
       "\n",
       "[72977 rows x 8 columns]"
      ]
     },
     "execution_count": 5,
     "metadata": {},
     "output_type": "execute_result"
    }
   ],
   "source": [
    "# Read data from the csv file\n",
    "data = pandas.read_csv('a.csv')\n",
    "data"
   ]
  },
  {
   "cell_type": "markdown",
   "metadata": {},
   "source": [
    "### Store all the unique member id in 'member'"
   ]
  },
  {
   "cell_type": "code",
   "execution_count": 6,
   "metadata": {},
   "outputs": [
    {
     "data": {
      "text/plain": [
       "member_id              72977\n",
       "diabetes_type          72977\n",
       "gender                 72977\n",
       "date_utc               72977\n",
       "bg_checks              72977\n",
       "avg_bg_value           71799\n",
       "count_hyper_reading    72977\n",
       "count_hypo_reading     72977\n",
       "dtype: int64"
      ]
     },
     "execution_count": 6,
     "metadata": {},
     "output_type": "execute_result"
    }
   ],
   "source": [
    "\"\"\"\n",
    "See https://data36.com/pandas-tutorial-1-basics-reading-data-files-dataframes-data-selection/\n",
    "See https://pandas.pydata.org/docs/user_guide/indexing.html#indexing\n",
    "See https://data36.com/pandas-tutorial-2-aggregation-and-grouping/\n",
    "\n",
    "You can pass a list of columns to [] to select columns in that order. If a column is not\n",
    "contained in the DataFrame, an exception will be raised \"\"\"\n",
    "\n",
    "hello = data.count()\n",
    "hello"
   ]
  },
  {
   "cell_type": "code",
   "execution_count": 7,
   "metadata": {},
   "outputs": [
    {
     "data": {
      "text/html": [
       "<div>\n",
       "<style scoped>\n",
       "    .dataframe tbody tr th:only-of-type {\n",
       "        vertical-align: middle;\n",
       "    }\n",
       "\n",
       "    .dataframe tbody tr th {\n",
       "        vertical-align: top;\n",
       "    }\n",
       "\n",
       "    .dataframe thead th {\n",
       "        text-align: right;\n",
       "    }\n",
       "</style>\n",
       "<table border=\"1\" class=\"dataframe\">\n",
       "  <thead>\n",
       "    <tr style=\"text-align: right;\">\n",
       "      <th></th>\n",
       "      <th>member_id</th>\n",
       "    </tr>\n",
       "  </thead>\n",
       "  <tbody>\n",
       "    <tr>\n",
       "      <th>0</th>\n",
       "      <td>10213339002895</td>\n",
       "    </tr>\n",
       "    <tr>\n",
       "      <th>1</th>\n",
       "      <td>10213339002895</td>\n",
       "    </tr>\n",
       "    <tr>\n",
       "      <th>2</th>\n",
       "      <td>10213339002895</td>\n",
       "    </tr>\n",
       "    <tr>\n",
       "      <th>3</th>\n",
       "      <td>10213339002895</td>\n",
       "    </tr>\n",
       "    <tr>\n",
       "      <th>4</th>\n",
       "      <td>10213339002895</td>\n",
       "    </tr>\n",
       "    <tr>\n",
       "      <th>...</th>\n",
       "      <td>...</td>\n",
       "    </tr>\n",
       "    <tr>\n",
       "      <th>72972</th>\n",
       "      <td>1029648302090</td>\n",
       "    </tr>\n",
       "    <tr>\n",
       "      <th>72973</th>\n",
       "      <td>1029648302090</td>\n",
       "    </tr>\n",
       "    <tr>\n",
       "      <th>72974</th>\n",
       "      <td>1029648302090</td>\n",
       "    </tr>\n",
       "    <tr>\n",
       "      <th>72975</th>\n",
       "      <td>1029648302090</td>\n",
       "    </tr>\n",
       "    <tr>\n",
       "      <th>72976</th>\n",
       "      <td>1029648302090</td>\n",
       "    </tr>\n",
       "  </tbody>\n",
       "</table>\n",
       "<p>72977 rows × 1 columns</p>\n",
       "</div>"
      ],
      "text/plain": [
       "            member_id\n",
       "0      10213339002895\n",
       "1      10213339002895\n",
       "2      10213339002895\n",
       "3      10213339002895\n",
       "4      10213339002895\n",
       "...               ...\n",
       "72972   1029648302090\n",
       "72973   1029648302090\n",
       "72974   1029648302090\n",
       "72975   1029648302090\n",
       "72976   1029648302090\n",
       "\n",
       "[72977 rows x 1 columns]"
      ]
     },
     "execution_count": 7,
     "metadata": {},
     "output_type": "execute_result"
    }
   ],
   "source": [
    "data[['member_id']]"
   ]
  },
  {
   "cell_type": "code",
   "execution_count": 8,
   "metadata": {},
   "outputs": [
    {
     "data": {
      "text/html": [
       "<div>\n",
       "<style scoped>\n",
       "    .dataframe tbody tr th:only-of-type {\n",
       "        vertical-align: middle;\n",
       "    }\n",
       "\n",
       "    .dataframe tbody tr th {\n",
       "        vertical-align: top;\n",
       "    }\n",
       "\n",
       "    .dataframe thead th {\n",
       "        text-align: right;\n",
       "    }\n",
       "</style>\n",
       "<table border=\"1\" class=\"dataframe\">\n",
       "  <thead>\n",
       "    <tr style=\"text-align: right;\">\n",
       "      <th></th>\n",
       "    </tr>\n",
       "    <tr>\n",
       "      <th>member_id</th>\n",
       "    </tr>\n",
       "  </thead>\n",
       "  <tbody>\n",
       "    <tr>\n",
       "      <th>1022970537115</th>\n",
       "    </tr>\n",
       "    <tr>\n",
       "      <th>1023580908884</th>\n",
       "    </tr>\n",
       "    <tr>\n",
       "      <th>1023757968164</th>\n",
       "    </tr>\n",
       "    <tr>\n",
       "      <th>1023785155422</th>\n",
       "    </tr>\n",
       "    <tr>\n",
       "      <th>1023790793933</th>\n",
       "    </tr>\n",
       "    <tr>\n",
       "      <th>...</th>\n",
       "    </tr>\n",
       "    <tr>\n",
       "      <th>10217799862216</th>\n",
       "    </tr>\n",
       "    <tr>\n",
       "      <th>10217808077477</th>\n",
       "    </tr>\n",
       "    <tr>\n",
       "      <th>10217870037076</th>\n",
       "    </tr>\n",
       "    <tr>\n",
       "      <th>10217927464151</th>\n",
       "    </tr>\n",
       "    <tr>\n",
       "      <th>10218058060657</th>\n",
       "    </tr>\n",
       "  </tbody>\n",
       "</table>\n",
       "<p>200 rows × 0 columns</p>\n",
       "</div>"
      ],
      "text/plain": [
       "Empty DataFrame\n",
       "Columns: []\n",
       "Index: [1022970537115, 1023580908884, 1023757968164, 1023785155422, 1023790793933, 1023806592688, 1024062729512, 1024188523502, 1024340138117, 1024394941011, 1024459527886, 1024622129651, 1024694128697, 1024907928716, 1024959940118, 1024974933185, 1025212333029, 1025273163116, 1025335175455, 1025369144827, 1025435724551, 1025788548197, 1025791176108, 1025822153406, 1025893315235, 1025897977803, 1025913719464, 1025969930680, 1026052160502, 1026116167209, 1026133367147, 1026138567204, 1026160511435, 1026234132254, 1026393954848, 1026496129662, 1026567323227, 1026575710952, 1026629943068, 1026630308873, 1026650917701, 1026676128233, 1026676599577, 1026815511217, 1026876594539, 1027026544111, 1027088785225, 1027115753189, 1027158532163, 1027166960148, 1027199332246, 1027366564111, 1027490563301, 1027506577879, 1027555161931, 1027567938120, 1027626529374, 1027652520170, 1027658518901, 1027746707853, 1027793529316, 1027826532065, 1027890968521, 1027943985323, 1028133124087, 1028309384084, 1028341362226, 1028379574011, 1028407529801, 1028445343230, 1028449779510, 1028465921237, 1028469353716, 1028551578418, 1028572392887, 1028574563303, 1028679155439, 1028744172113, 1028760785283, 1028789941042, 1028793307856, 1028800911419, 1028820559401, 1028820754981, 1028856706042, 1028916755122, 1028926131645, 1028951377396, 1028977955944, 1029015755906, 1029027955920, 1029028555920, 1029040955976, 1029043155902, 1029046355902, 1029094168130, 1029143355963, 1029162365203, 1029185958368, 1029205506082, ...]\n",
       "\n",
       "[200 rows x 0 columns]"
      ]
     },
     "execution_count": 8,
     "metadata": {},
     "output_type": "execute_result"
    }
   ],
   "source": [
    "members = data[['member_id']].groupby('member_id').count()\n",
    "members"
   ]
  },
  {
   "cell_type": "code",
   "execution_count": 9,
   "metadata": {},
   "outputs": [
    {
     "data": {
      "text/plain": [
       "200"
      ]
     },
     "execution_count": 9,
     "metadata": {},
     "output_type": "execute_result"
    }
   ],
   "source": [
    "NUMBER_OF_MEMBERS = len(members)\n",
    "NUMBER_OF_MEMBERS"
   ]
  },
  {
   "cell_type": "markdown",
   "metadata": {},
   "source": [
    "### Initialize BG"
   ]
  },
  {
   "cell_type": "code",
   "execution_count": 10,
   "metadata": {},
   "outputs": [
    {
     "data": {
      "text/plain": [
       "array([[0., 0., 0., ..., 0., 0., 0.],\n",
       "       [0., 0., 0., ..., 0., 0., 0.],\n",
       "       [0., 0., 0., ..., 0., 0., 0.],\n",
       "       ...,\n",
       "       [0., 0., 0., ..., 0., 0., 0.],\n",
       "       [0., 0., 0., ..., 0., 0., 0.],\n",
       "       [0., 0., 0., ..., 0., 0., 0.]])"
      ]
     },
     "execution_count": 10,
     "metadata": {},
     "output_type": "execute_result"
    }
   ],
   "source": [
    "\"\"\"\n",
    "See https://numpy.org/doc/stable/reference/generated/numpy.zeros.html\n",
    "\n",
    "np.zeros((number of rows, number of columns)) fills new matrix with zeroes\n",
    "\"\"\"\n",
    "BG = np.zeros((NUMBER_OF_MEMBERS,365))\n",
    "BG"
   ]
  },
  {
   "cell_type": "markdown",
   "metadata": {},
   "source": [
    "### Store bg values in BG\n",
    "Each row refers to a unique member and each column refers to a bg recording from a particular day.\n",
    "\n",
    "The average blood glucose value on some dates is missing. They will show as 'nan' in 'data'.\n",
    "You need to replace the missing bg value as the average of the previous day and the next day."
   ]
  },
  {
   "cell_type": "code",
   "execution_count": 11,
   "metadata": {},
   "outputs": [
    {
     "data": {
      "text/plain": [
       "array([[0., 0., 0., 0., 0., 0., 0., 0., 0., 0., 0., 0., 0., 0., 0., 0.,\n",
       "        0., 0., 0., 0., 0., 0., 0., 0., 0., 0., 0., 0., 0., 0., 0., 0.,\n",
       "        0., 0., 0., 0., 0., 0., 0., 0., 0., 0., 0., 0., 0., 0., 0., 0.,\n",
       "        0., 0., 0., 0., 0., 0., 0., 0., 0., 0., 0., 0., 0., 0., 0., 0.,\n",
       "        0., 0., 0., 0., 0., 0., 0., 0., 0., 0., 0., 0., 0., 0., 0., 0.,\n",
       "        0., 0., 0., 0., 0., 0., 0., 0., 0., 0., 0., 0., 0., 0., 0., 0.,\n",
       "        0., 0., 0., 0., 0., 0., 0., 0., 0., 0., 0., 0., 0., 0., 0., 0.,\n",
       "        0., 0., 0., 0., 0., 0., 0., 0., 0., 0., 0., 0., 0., 0., 0., 0.,\n",
       "        0., 0., 0., 0., 0., 0., 0., 0., 0., 0., 0., 0., 0., 0., 0., 0.,\n",
       "        0., 0., 0., 0., 0., 0., 0., 0., 0., 0., 0., 0., 0., 0., 0., 0.,\n",
       "        0., 0., 0., 0., 0., 0., 0., 0., 0., 0., 0., 0., 0., 0., 0., 0.,\n",
       "        0., 0., 0., 0., 0., 0., 0., 0., 0., 0., 0., 0., 0., 0., 0., 0.,\n",
       "        0., 0., 0., 0., 0., 0., 0., 0., 0., 0., 0., 0., 0., 0., 0., 0.,\n",
       "        0., 0., 0., 0., 0., 0., 0., 0., 0., 0., 0., 0., 0., 0., 0., 0.,\n",
       "        0., 0., 0., 0., 0., 0., 0., 0., 0., 0., 0., 0., 0., 0., 0., 0.,\n",
       "        0., 0., 0., 0., 0., 0., 0., 0., 0., 0., 0., 0., 0., 0., 0., 0.,\n",
       "        0., 0., 0., 0., 0., 0., 0., 0., 0., 0., 0., 0., 0., 0., 0., 0.,\n",
       "        0., 0., 0., 0., 0., 0., 0., 0., 0., 0., 0., 0., 0., 0., 0., 0.,\n",
       "        0., 0., 0., 0., 0., 0., 0., 0., 0., 0., 0., 0., 0., 0., 0., 0.,\n",
       "        0., 0., 0., 0., 0., 0., 0., 0., 0., 0., 0., 0., 0., 0., 0., 0.,\n",
       "        0., 0., 0., 0., 0., 0., 0., 0., 0., 0., 0., 0., 0., 0., 0., 0.,\n",
       "        0., 0., 0., 0., 0., 0., 0., 0., 0., 0., 0., 0., 0., 0., 0., 0.,\n",
       "        0., 0., 0., 0., 0., 0., 0., 0., 0., 0., 0., 0., 0.]])"
      ]
     },
     "execution_count": 11,
     "metadata": {},
     "output_type": "execute_result"
    }
   ],
   "source": [
    "#One row of BG has 365 days\n",
    "BG[[0]]"
   ]
  },
  {
   "cell_type": "code",
   "execution_count": 12,
   "metadata": {},
   "outputs": [
    {
     "data": {
      "text/plain": [
       "1"
      ]
     },
     "execution_count": 12,
     "metadata": {},
     "output_type": "execute_result"
    }
   ],
   "source": [
    "len(BG[[0]])"
   ]
  },
  {
   "cell_type": "code",
   "execution_count": 13,
   "metadata": {},
   "outputs": [
    {
     "data": {
      "text/plain": [
       "(200, 365)"
      ]
     },
     "execution_count": 13,
     "metadata": {},
     "output_type": "execute_result"
    }
   ],
   "source": [
    "BG.shape"
   ]
  },
  {
   "cell_type": "code",
   "execution_count": 14,
   "metadata": {},
   "outputs": [
    {
     "data": {
      "text/plain": [
       "2"
      ]
     },
     "execution_count": 14,
     "metadata": {},
     "output_type": "execute_result"
    }
   ],
   "source": [
    "BG.ndim"
   ]
  },
  {
   "cell_type": "code",
   "execution_count": 15,
   "metadata": {},
   "outputs": [
    {
     "data": {
      "text/plain": [
       "0.0"
      ]
     },
     "execution_count": 15,
     "metadata": {},
     "output_type": "execute_result"
    }
   ],
   "source": [
    "BG[1,0]"
   ]
  },
  {
   "cell_type": "code",
   "execution_count": 16,
   "metadata": {},
   "outputs": [
    {
     "data": {
      "text/html": [
       "<div>\n",
       "<style scoped>\n",
       "    .dataframe tbody tr th:only-of-type {\n",
       "        vertical-align: middle;\n",
       "    }\n",
       "\n",
       "    .dataframe tbody tr th {\n",
       "        vertical-align: top;\n",
       "    }\n",
       "\n",
       "    .dataframe thead th {\n",
       "        text-align: right;\n",
       "    }\n",
       "</style>\n",
       "<table border=\"1\" class=\"dataframe\">\n",
       "  <thead>\n",
       "    <tr style=\"text-align: right;\">\n",
       "      <th></th>\n",
       "    </tr>\n",
       "    <tr>\n",
       "      <th>member_id</th>\n",
       "    </tr>\n",
       "  </thead>\n",
       "  <tbody>\n",
       "    <tr>\n",
       "      <th>1022970537115</th>\n",
       "    </tr>\n",
       "    <tr>\n",
       "      <th>1023580908884</th>\n",
       "    </tr>\n",
       "    <tr>\n",
       "      <th>1023757968164</th>\n",
       "    </tr>\n",
       "    <tr>\n",
       "      <th>1023785155422</th>\n",
       "    </tr>\n",
       "    <tr>\n",
       "      <th>1023790793933</th>\n",
       "    </tr>\n",
       "    <tr>\n",
       "      <th>...</th>\n",
       "    </tr>\n",
       "    <tr>\n",
       "      <th>10217799862216</th>\n",
       "    </tr>\n",
       "    <tr>\n",
       "      <th>10217808077477</th>\n",
       "    </tr>\n",
       "    <tr>\n",
       "      <th>10217870037076</th>\n",
       "    </tr>\n",
       "    <tr>\n",
       "      <th>10217927464151</th>\n",
       "    </tr>\n",
       "    <tr>\n",
       "      <th>10218058060657</th>\n",
       "    </tr>\n",
       "  </tbody>\n",
       "</table>\n",
       "<p>200 rows × 0 columns</p>\n",
       "</div>"
      ],
      "text/plain": [
       "Empty DataFrame\n",
       "Columns: []\n",
       "Index: [1022970537115, 1023580908884, 1023757968164, 1023785155422, 1023790793933, 1023806592688, 1024062729512, 1024188523502, 1024340138117, 1024394941011, 1024459527886, 1024622129651, 1024694128697, 1024907928716, 1024959940118, 1024974933185, 1025212333029, 1025273163116, 1025335175455, 1025369144827, 1025435724551, 1025788548197, 1025791176108, 1025822153406, 1025893315235, 1025897977803, 1025913719464, 1025969930680, 1026052160502, 1026116167209, 1026133367147, 1026138567204, 1026160511435, 1026234132254, 1026393954848, 1026496129662, 1026567323227, 1026575710952, 1026629943068, 1026630308873, 1026650917701, 1026676128233, 1026676599577, 1026815511217, 1026876594539, 1027026544111, 1027088785225, 1027115753189, 1027158532163, 1027166960148, 1027199332246, 1027366564111, 1027490563301, 1027506577879, 1027555161931, 1027567938120, 1027626529374, 1027652520170, 1027658518901, 1027746707853, 1027793529316, 1027826532065, 1027890968521, 1027943985323, 1028133124087, 1028309384084, 1028341362226, 1028379574011, 1028407529801, 1028445343230, 1028449779510, 1028465921237, 1028469353716, 1028551578418, 1028572392887, 1028574563303, 1028679155439, 1028744172113, 1028760785283, 1028789941042, 1028793307856, 1028800911419, 1028820559401, 1028820754981, 1028856706042, 1028916755122, 1028926131645, 1028951377396, 1028977955944, 1029015755906, 1029027955920, 1029028555920, 1029040955976, 1029043155902, 1029046355902, 1029094168130, 1029143355963, 1029162365203, 1029185958368, 1029205506082, ...]\n",
       "\n",
       "[200 rows x 0 columns]"
      ]
     },
     "execution_count": 16,
     "metadata": {},
     "output_type": "execute_result"
    }
   ],
   "source": [
    "members"
   ]
  },
  {
   "cell_type": "code",
   "execution_count": 17,
   "metadata": {},
   "outputs": [
    {
     "data": {
      "text/html": [
       "<div>\n",
       "<style scoped>\n",
       "    .dataframe tbody tr th:only-of-type {\n",
       "        vertical-align: middle;\n",
       "    }\n",
       "\n",
       "    .dataframe tbody tr th {\n",
       "        vertical-align: top;\n",
       "    }\n",
       "\n",
       "    .dataframe thead th {\n",
       "        text-align: right;\n",
       "    }\n",
       "</style>\n",
       "<table border=\"1\" class=\"dataframe\">\n",
       "  <thead>\n",
       "    <tr style=\"text-align: right;\">\n",
       "      <th></th>\n",
       "      <th>member_id</th>\n",
       "    </tr>\n",
       "  </thead>\n",
       "  <tbody>\n",
       "    <tr>\n",
       "      <th>0</th>\n",
       "      <td>1022970537115</td>\n",
       "    </tr>\n",
       "    <tr>\n",
       "      <th>1</th>\n",
       "      <td>1023580908884</td>\n",
       "    </tr>\n",
       "    <tr>\n",
       "      <th>2</th>\n",
       "      <td>1023757968164</td>\n",
       "    </tr>\n",
       "    <tr>\n",
       "      <th>3</th>\n",
       "      <td>1023785155422</td>\n",
       "    </tr>\n",
       "    <tr>\n",
       "      <th>4</th>\n",
       "      <td>1023790793933</td>\n",
       "    </tr>\n",
       "    <tr>\n",
       "      <th>...</th>\n",
       "      <td>...</td>\n",
       "    </tr>\n",
       "    <tr>\n",
       "      <th>195</th>\n",
       "      <td>10217799862216</td>\n",
       "    </tr>\n",
       "    <tr>\n",
       "      <th>196</th>\n",
       "      <td>10217808077477</td>\n",
       "    </tr>\n",
       "    <tr>\n",
       "      <th>197</th>\n",
       "      <td>10217870037076</td>\n",
       "    </tr>\n",
       "    <tr>\n",
       "      <th>198</th>\n",
       "      <td>10217927464151</td>\n",
       "    </tr>\n",
       "    <tr>\n",
       "      <th>199</th>\n",
       "      <td>10218058060657</td>\n",
       "    </tr>\n",
       "  </tbody>\n",
       "</table>\n",
       "<p>200 rows × 1 columns</p>\n",
       "</div>"
      ],
      "text/plain": [
       "          member_id\n",
       "0     1022970537115\n",
       "1     1023580908884\n",
       "2     1023757968164\n",
       "3     1023785155422\n",
       "4     1023790793933\n",
       "..              ...\n",
       "195  10217799862216\n",
       "196  10217808077477\n",
       "197  10217870037076\n",
       "198  10217927464151\n",
       "199  10218058060657\n",
       "\n",
       "[200 rows x 1 columns]"
      ]
     },
     "execution_count": 17,
     "metadata": {},
     "output_type": "execute_result"
    }
   ],
   "source": [
    "members = members.reset_index()\n",
    "members"
   ]
  },
  {
   "cell_type": "code",
   "execution_count": 18,
   "metadata": {},
   "outputs": [
    {
     "data": {
      "text/plain": [
       "1023580908884"
      ]
     },
     "execution_count": 18,
     "metadata": {},
     "output_type": "execute_result"
    }
   ],
   "source": [
    "members['member_id'].loc[1]"
   ]
  },
  {
   "cell_type": "markdown",
   "metadata": {},
   "source": [
    "### ANSWER"
   ]
  },
  {
   "cell_type": "code",
   "execution_count": 19,
   "metadata": {},
   "outputs": [
    {
     "name": "stdout",
     "output_type": "stream",
     "text": [
      "[[173.69565 167.69565 164.65218 ... 158.40909 147.63637 147.42857]\n",
      " [124.      125.76923 122.92308 ... 128.3158  123.64706 127.22222]\n",
      " [157.61539 189.77777       nan ... 148.05882 147.88235 146.8125 ]\n",
      " ...\n",
      " [134.125   119.63636 118.14286 ... 171.71428 166.78261 166.5    ]\n",
      " [      nan       nan       nan ... 169.83333 169.83333 169.83333]\n",
      " [      nan       nan 122.2     ... 135.91837 135.91837 135.91837]]\n"
     ]
    }
   ],
   "source": [
    "i = 0\n",
    "k = 0\n",
    "\n",
    "while i < 200:\n",
    "    #Grab ID number of the member\n",
    "    s = members['member_id'].loc[i]\n",
    "    #print('Loop ID: ' + str(s))\n",
    "    #print('\\n')\n",
    "    \n",
    "    #Create dataframe for that member's bg values\n",
    "    df = data[data.member_id == s][['avg_bg_value']]\n",
    "    df = df.reset_index(drop = True)\n",
    "    #print(df)\n",
    "    #print('\\n')\n",
    "    \n",
    "    #Return number of bg vals for the ID\n",
    "    rows = df.shape[0]\n",
    "    #print('Num rows bg val for ID: ' + str(rows))\n",
    "    \n",
    "    \n",
    "    #Start variable add\n",
    "    add = 365 - rows\n",
    "    \n",
    "    #Initialize column array\n",
    "    col = []\n",
    "    \n",
    "    #Initialize counter for the ID's bg\n",
    "    j = int(0)\n",
    "    #print('j: ' + str(j))\n",
    "    #print('\\n')\n",
    "    \n",
    "    while j < rows:        \n",
    "        \n",
    "        #Store that bg measurement\n",
    "        bg = df['avg_bg_value'].loc[j]\n",
    "        #print('Measurement: ' + str(bg))\n",
    "        #print('\\n')\n",
    "        \n",
    "        #Append bg measurement to col array\n",
    "        col.append(bg)\n",
    "\n",
    "        #Handle exceptions at the end of bg dataframe\n",
    "        if add != 0 and j == (rows-1):\n",
    "            #HANDLE THE EXCEPTIONS\n",
    "            #print(\"NOPE!\")\n",
    "            x = 0\n",
    "            while x < add:\n",
    "                col.append(bg)\n",
    "                x += 1\n",
    "            j += 1\n",
    "        else:  \n",
    "            #Increment to next blood glucose value  \n",
    "            j += 1\n",
    "        \n",
    "    #Convert array col into a one-dimensional matrix with numpy      \n",
    "    A = np.array(col)\n",
    "    #print(A)\n",
    "    \n",
    "    #Set the k-th matrix row equal to the ID's one-dimensional matrix of avg bg values       \n",
    "    BG[[k]] = A\n",
    "    \n",
    "    #Increment to the next ID and the next BG matrix row\n",
    "    i += 1\n",
    "    k += 1\n",
    "\n",
    "print(BG)"
   ]
  },
  {
   "cell_type": "markdown",
   "metadata": {},
   "source": [
    "### Replace the NaN in the filled BG matrix\n",
    "Handle the 'nan's in the data. Replace the nan with the previous non-nan value or the next non-nan value."
   ]
  },
  {
   "cell_type": "code",
   "execution_count": 20,
   "metadata": {},
   "outputs": [
    {
     "data": {
      "text/plain": [
       "True"
      ]
     },
     "execution_count": 20,
     "metadata": {},
     "output_type": "execute_result"
    }
   ],
   "source": [
    "np.isnan(BG[0,0]) == 0"
   ]
  },
  {
   "cell_type": "code",
   "execution_count": 21,
   "metadata": {},
   "outputs": [
    {
     "data": {
      "text/plain": [
       "147.42857"
      ]
     },
     "execution_count": 21,
     "metadata": {},
     "output_type": "execute_result"
    }
   ],
   "source": [
    "BG[0,-1]"
   ]
  },
  {
   "cell_type": "code",
   "execution_count": 22,
   "metadata": {},
   "outputs": [
    {
     "data": {
      "text/plain": [
       "(200, 365)"
      ]
     },
     "execution_count": 22,
     "metadata": {},
     "output_type": "execute_result"
    }
   ],
   "source": [
    "BG.shape"
   ]
  },
  {
   "cell_type": "code",
   "execution_count": 23,
   "metadata": {},
   "outputs": [
    {
     "data": {
      "text/plain": [
       "2"
      ]
     },
     "execution_count": 23,
     "metadata": {},
     "output_type": "execute_result"
    }
   ],
   "source": [
    "BG.ndim"
   ]
  },
  {
   "cell_type": "markdown",
   "metadata": {},
   "source": [
    "### ANSWER"
   ]
  },
  {
   "cell_type": "code",
   "execution_count": 24,
   "metadata": {},
   "outputs": [
    {
     "name": "stdout",
     "output_type": "stream",
     "text": [
      "[[173.69565 167.69565 164.65218 ... 158.40909 147.63637 147.42857]\n",
      " [124.      125.76923 122.92308 ... 128.3158  123.64706 127.22222]\n",
      " [157.61539 189.77777 189.77777 ... 148.05882 147.88235 146.8125 ]\n",
      " ...\n",
      " [134.125   119.63636 118.14286 ... 171.71428 166.78261 166.5    ]\n",
      " [207.      207.      207.      ... 169.83333 169.83333 169.83333]\n",
      " [122.2     122.2     122.2     ... 135.91837 135.91837 135.91837]]\n"
     ]
    },
    {
     "data": {
      "text/plain": [
       "True"
      ]
     },
     "execution_count": 24,
     "metadata": {},
     "output_type": "execute_result"
    }
   ],
   "source": [
    "#Row index number\n",
    "l = 0\n",
    "\n",
    "#Column index number\n",
    "m = 0\n",
    "\n",
    "while l < 200:\n",
    "    #print('This is the row were on: ' + str(l))\n",
    "    while m < 365:\n",
    "        #print('This is the column were on: ' + str(m))\n",
    "        #Handle the NaN by either finding the last/next bg val that is NOT NaN\n",
    "       \n",
    "        if np.isnan(BG[l,m]) == 1:\n",
    "            #print('\\n')\n",
    "            #print('This is NaN: ' + str(BG[l,m]))\n",
    "            #print(str(members['member_id'].loc[l]))\n",
    "            #print('\\n')\n",
    "            \n",
    "            #If the previous value is a number and within first column, store\n",
    "            #Set t to 1\n",
    "            t = 1\n",
    "            while np.isnan(BG[l,m]) == 1:\n",
    "                if np.isnan(BG[l,(m-t)]) == 0 and (m-t) >= 0:\n",
    "                    new = BG[l,(m-t)]\n",
    "                    BG[l,m] = new\n",
    "                    #print('Last is good: ' + str(BG[l,m]))\n",
    "                    #print('\\n')\n",
    "\n",
    "                #If the next value is a number and within last column, store    \n",
    "                elif np.isnan(BG[l,(m+t)]) == 0 and (m+t) < 365:\n",
    "                    new = BG[l,(m+t)]\n",
    "                    BG[l,m] = new\n",
    "                    #print('Next is good: ' + str(BG[l,m]))\n",
    "                    #print('\\n')\n",
    "\n",
    "                #Else increment t up 1 and try again \n",
    "                else:\n",
    "                    t += 1\n",
    "        \n",
    "        else:        \n",
    "            #Go to the next column item\n",
    "            #print(str(BG[l,m]))\n",
    "            m += 1\n",
    "        \n",
    "    #Reset your column to 0 again\n",
    "    m = 0\n",
    "    #Go to the next row\n",
    "    l += 1\n",
    "\n",
    "print(BG)\n",
    "\n",
    "#numpy.sum(BG) will only be NaN iff there is at least one NaN, so this should return True\n",
    "np.isnan(np.sum(BG)) == 0"
   ]
  },
  {
   "cell_type": "markdown",
   "metadata": {},
   "source": [
    "### Plot the averaged bg across all members\n",
    "\n",
    "Use the matplotlib to plot the averaged bg across all members ('avg_all'). The x-axis should be the 'date from first day ('day') and the y-axis should be ('bg'). Add title as 'All member avg bg'."
   ]
  },
  {
   "cell_type": "code",
   "execution_count": 25,
   "metadata": {},
   "outputs": [
    {
     "name": "stdout",
     "output_type": "stream",
     "text": [
      "(365,)\n",
      "[155.71324885 156.2734912  155.949726  ]\n",
      "[0 1 2 3 4]\n"
     ]
    },
    {
     "data": {
      "image/png": "[encoded data removed]",
      "text/plain": [
       "<Figure size 432x288 with 1 Axes>"
      ]
     },
     "metadata": {
      "needs_background": "light"
     },
     "output_type": "display_data"
    }
   ],
   "source": [
    "avg_all = np.average(BG, axis=0)\n",
    "print(avg_all.shape)\n",
    "print(avg_all[0:3])\n",
    "print(np.arange(0,5))\n",
    "\n",
    "#How to plot a bar graph from a table: https://365datascience.com/bar-chart-python-matplotlib/\n",
    "plt.bar(x = np.arange(1,366), height = avg_all[0:365])\n",
    "plt.ylabel('Blood Glucose')\n",
    "plt.xlabel('Day of the Year')\n",
    "plt.title('All Member Avg BG')\n",
    "plt.show()\n"
   ]
  },
  {
   "cell_type": "code",
   "execution_count": null,
   "metadata": {},
   "outputs": [],
   "source": []
  }
 ],
 "metadata": {
  "kernelspec": {
   "display_name": "Python 3",
   "language": "python",
   "name": "python3"
  },
  "language_info": {
   "codemirror_mode": {
    "name": "ipython",
    "version": 3
   },
   "file_extension": ".py",
   "mimetype": "text/x-python",
   "name": "python",
   "nbconvert_exporter": "python",
   "pygments_lexer": "ipython3",
   "version": "3.7.6"
  }
 },
 "nbformat": 4,
 "nbformat_minor": 4
}
